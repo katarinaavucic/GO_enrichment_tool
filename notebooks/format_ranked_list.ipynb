{
 "cells": [
  {
   "cell_type": "code",
   "execution_count": null,
   "id": "70f3fdda-e6e8-4d29-9351-c497a82bf492",
   "metadata": {},
   "outputs": [],
   "source": [
    "# this workbook takes in a list of ranked genes seperated by newlines and returns a dataframe in the correct format for analysis."
   ]
  },
  {
   "cell_type": "code",
   "execution_count": 29,
   "id": "ba4145de-8a1d-4462-a2eb-ea9bb3843440",
   "metadata": {},
   "outputs": [],
   "source": [
    "import pandas as pd"
   ]
  },
  {
   "cell_type": "code",
   "execution_count": 30,
   "id": "011d1730-36b7-45d9-add1-6f900801c273",
   "metadata": {},
   "outputs": [],
   "source": [
    "# ranked_list: a string of genes seperated by \\n (from user input)\n",
    "# ranked_list = 'STK4 \\n NHEJ1\\n AACS\\n \\nZXDA'"
   ]
  },
  {
   "cell_type": "code",
   "execution_count": 32,
   "id": "8d597173-6e65-448a-bbfc-6977f3937ab2",
   "metadata": {},
   "outputs": [],
   "source": [
    "ranked_list_df = [line.strip() for line in ranked_list.split('\\n') if line.strip()]"
   ]
  },
  {
   "cell_type": "code",
   "execution_count": 33,
   "id": "632dd4dc-6752-4ee3-81b8-8f4d0bb71eb6",
   "metadata": {},
   "outputs": [],
   "source": [
    "ranked_list_df = pd.DataFrame(ranked_list_df)"
   ]
  },
  {
   "cell_type": "code",
   "execution_count": 34,
   "id": "a523aae0-f2b4-421a-ad87-2261a1738772",
   "metadata": {},
   "outputs": [],
   "source": [
    "ranked_list_df = ranked_list_df.rename({0: 'gene'}, axis=1)"
   ]
  },
  {
   "cell_type": "code",
   "execution_count": 35,
   "id": "e19d6c7d-e1a1-455b-8c60-c67010e3aadc",
   "metadata": {},
   "outputs": [],
   "source": [
    "ranked_list_df['index'] = list(reversed((ranked_list_df.index + 1).tolist()))"
   ]
  },
  {
   "cell_type": "code",
   "execution_count": 36,
   "id": "17bae71c-6daa-4887-8c2e-e2f353b8583e",
   "metadata": {},
   "outputs": [],
   "source": [
    "ranked_list_df = ranked_list_df.set_index('gene')"
   ]
  },
  {
   "cell_type": "code",
   "execution_count": 37,
   "id": "800d8d52-ddaf-42d8-93ec-c830150c9312",
   "metadata": {},
   "outputs": [],
   "source": [
    "ranked_list_df = ranked_list_df.T"
   ]
  },
  {
   "cell_type": "code",
   "execution_count": 38,
   "id": "c4dbec12-9b09-4fb3-bb6e-808b683a586d",
   "metadata": {},
   "outputs": [
    {
     "data": {
      "text/html": [
       "<div>\n",
       "<style scoped>\n",
       "    .dataframe tbody tr th:only-of-type {\n",
       "        vertical-align: middle;\n",
       "    }\n",
       "\n",
       "    .dataframe tbody tr th {\n",
       "        vertical-align: top;\n",
       "    }\n",
       "\n",
       "    .dataframe thead th {\n",
       "        text-align: right;\n",
       "    }\n",
       "</style>\n",
       "<table border=\"1\" class=\"dataframe\">\n",
       "  <thead>\n",
       "    <tr style=\"text-align: right;\">\n",
       "      <th>gene</th>\n",
       "      <th>STK4</th>\n",
       "      <th>NHEJ1</th>\n",
       "      <th>AACS</th>\n",
       "      <th>ZXDA</th>\n",
       "    </tr>\n",
       "  </thead>\n",
       "  <tbody>\n",
       "    <tr>\n",
       "      <th>index</th>\n",
       "      <td>4</td>\n",
       "      <td>3</td>\n",
       "      <td>2</td>\n",
       "      <td>1</td>\n",
       "    </tr>\n",
       "  </tbody>\n",
       "</table>\n",
       "</div>"
      ],
      "text/plain": [
       "gene   STK4  NHEJ1  AACS  ZXDA\n",
       "index     4      3     2     1"
      ]
     },
     "execution_count": 38,
     "metadata": {},
     "output_type": "execute_result"
    }
   ],
   "source": [
    "ranked_list_df"
   ]
  },
  {
   "cell_type": "code",
   "execution_count": 39,
   "id": "e133c34a-05bc-48f7-a5a9-7d04a7de7c2b",
   "metadata": {},
   "outputs": [],
   "source": [
    "ranked_list_df.to_csv('./data/ranked_list_df.csv', index=False)"
   ]
  },
  {
   "cell_type": "code",
   "execution_count": null,
   "id": "fa3ecf76-85ff-496d-b48f-8c06c9f233cb",
   "metadata": {},
   "outputs": [],
   "source": []
  }
 ],
 "metadata": {
  "kernelspec": {
   "display_name": "protembed",
   "language": "python",
   "name": "protembed"
  },
  "language_info": {
   "codemirror_mode": {
    "name": "ipython",
    "version": 3
   },
   "file_extension": ".py",
   "mimetype": "text/x-python",
   "name": "python",
   "nbconvert_exporter": "python",
   "pygments_lexer": "ipython3",
   "version": "3.8.10"
  }
 },
 "nbformat": 4,
 "nbformat_minor": 5
}
